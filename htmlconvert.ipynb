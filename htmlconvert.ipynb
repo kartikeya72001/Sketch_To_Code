{
 "cells": [
  {
   "cell_type": "code",
   "execution_count": 1,
   "metadata": {},
   "outputs": [],
   "source": [
    "from Compiler import *"
   ]
  },
  {
   "cell_type": "code",
   "execution_count": 24,
   "metadata": {},
   "outputs": [],
   "source": [
    "from __future__ import print_function\n",
    "from __future__ import absolute_import\n",
    "\n",
    "import os\n",
    "import json\n",
    "\n",
    "from Node import *\n",
    "\n",
    "BASE_DIR_NAME = './'\n",
    "DEFAULT_DSL_MAPPING_FILEPATH = \"{}styles/default-dsl-mapping.json\".format(BASE_DIR_NAME)\n",
    "FACEBOOK_DSL_MAPPING_FILEPATH = \"{}styles/facebook_dsl_mapping.json\".format(BASE_DIR_NAME)\n",
    "AIRBNB_DSL_MAPPING_FILEPATH = \"{}styles/airbnb_dsl_mapping.json\".format(BASE_DIR_NAME)\n",
    "\n",
    "\n",
    "class Compiler:\n",
    "    def __init__(self, style):\n",
    "        style_json = self.get_stylesheet(style)\n",
    "        with open(style_json) as data_file:\n",
    "            self.dsl_mapping = json.load(data_file)\n",
    "        # print(self.dsl_mapping)\n",
    "        self.opening_tag = self.dsl_mapping[\"opening-tag\"]\n",
    "        self.closing_tag = self.dsl_mapping[\"closing-tag\"]\n",
    "        self.content_holder = self.opening_tag + self.closing_tag\n",
    "\n",
    "        self.root = Node(\"body\", None, self.content_holder)\n",
    "\n",
    "    def get_stylesheet(self, style):\n",
    "        # print('Loading Stylesheet')\n",
    "        if style == 'default':\n",
    "            print(DEFAULT_DSL_MAPPING_FILEPATH)\n",
    "            return DEFAULT_DSL_MAPPING_FILEPATH\n",
    "        elif style == 'facebook':\n",
    "            return FACEBOOK_DSL_MAPPING_FILEPATH\n",
    "        elif style == 'airbnb':\n",
    "            return AIRBNB_DSL_MAPPING_FILEPATH\n",
    "\n",
    "    def compile(self, generated_gui):\n",
    "        dsl_file = generated_gui\n",
    "        print(dsl_file)\n",
    "        #Parse fix\n",
    "        dsl_file = dsl_file[1:-1]\n",
    "        dsl_file = ' '.join(dsl_file)\n",
    "        dsl_file = dsl_file.replace('{', '{8').replace('}', '8}8')\n",
    "        dsl_file = dsl_file.replace(' ', '')\n",
    "        dsl_file = dsl_file.split('8')\n",
    "        dsl_file = list(filter(None, dsl_file))\n",
    "\n",
    "        current_parent = self.root\n",
    "        for token in dsl_file:\n",
    "            token = token.replace(\" \", \"\").replace(\"\\n\", \"\")\n",
    "\n",
    "            if token.find(self.opening_tag) != -1:\n",
    "                token = token.replace(self.opening_tag, \"\")\n",
    "                element = Node(token, current_parent, self.content_holder)\n",
    "                current_parent.add_child(element)\n",
    "                current_parent = element\n",
    "            elif token.find(self.closing_tag) != -1:\n",
    "                current_parent = current_parent.parent\n",
    "            else:\n",
    "                tokens = token.split(\",\")\n",
    "                for t in tokens:\n",
    "                    element = Node(t, current_parent, self.content_holder)\n",
    "                    current_parent.add_child(element)\n",
    "\n",
    "        output_html = self.root.render(self.dsl_mapping)\n",
    "        if output_html is None: return \"HTML Parsing Error\"\n",
    "\n",
    "        return output_html"
   ]
  },
  {
   "cell_type": "code",
   "execution_count": 25,
   "metadata": {},
   "outputs": [],
   "source": [
    "def generate_html(gui_array, sample_id, print_generated_output, output_folder, style='default'):\n",
    "\n",
    "        compiler = Compiler(style)\n",
    "        compiled_website = compiler.compile(gui_array)\n",
    "\n",
    "        if print_generated_output is 1:\n",
    "            print(\"\\nCompiled HTML:\")\n",
    "            print(compiled_website)\n",
    "\n",
    "        if compiled_website != 'HTML Parsing Error':\n",
    "            output_filepath = \"{}/{}.html\".format(output_folder, sample_id)\n",
    "            with open(output_filepath, 'w') as output_file:\n",
    "                output_file.write(compiled_website)\n",
    "                print(\"Saved generated HTML to {}\".format(output_filepath))"
   ]
  },
  {
   "cell_type": "code",
   "execution_count": 26,
   "metadata": {},
   "outputs": [
    {
     "name": "stdout",
     "output_type": "stream",
     "text": [
      "./styles/default-dsl-mapping.json\n",
      "output/0143F087-C50D-4EE1-88AC-426056D71026 (1).gui\n",
      "\n",
      "Compiled HTML:\n",
      "HTML Parsing Error\n"
     ]
    }
   ],
   "source": [
    "generate_html('output/0143F087-C50D-4EE1-88AC-426056D71026 (1).gui','0143F087-C50D-4EE1-88AC-426056D71026 (1)',1,'./output')"
   ]
  },
  {
   "cell_type": "code",
   "execution_count": null,
   "metadata": {},
   "outputs": [],
   "source": []
  }
 ],
 "metadata": {
  "kernelspec": {
   "display_name": "Python 3",
   "language": "python",
   "name": "python3"
  },
  "language_info": {
   "codemirror_mode": {
    "name": "ipython",
    "version": 3
   },
   "file_extension": ".py",
   "mimetype": "text/x-python",
   "name": "python",
   "nbconvert_exporter": "python",
   "pygments_lexer": "ipython3",
   "version": "3.7.5"
  },
  "orig_nbformat": 4,
  "vscode": {
   "interpreter": {
    "hash": "9e9b47167918b8056cbcdadb504d28bf4a60775d7f5bbc39f8a38413d453c738"
   }
  }
 },
 "nbformat": 4,
 "nbformat_minor": 2
}
